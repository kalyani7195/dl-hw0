{
  "nbformat": 4,
  "nbformat_minor": 0,
  "metadata": {
    "colab": {
      "name": "mnist_pytorch.ipynb",
      "provenance": [],
      "collapsed_sections": []
    },
    "kernelspec": {
      "name": "python3",
      "display_name": "Python 3"
    },
    "accelerator": "GPU",
    "widgets": {
      "application/vnd.jupyter.widget-state+json": {
        "b09c0c5d8fe741d38e575a8c280d6da1": {
          "model_module": "@jupyter-widgets/controls",
          "model_name": "HBoxModel",
          "state": {
            "_view_name": "HBoxView",
            "_dom_classes": [],
            "_model_name": "HBoxModel",
            "_view_module": "@jupyter-widgets/controls",
            "_model_module_version": "1.5.0",
            "_view_count": null,
            "_view_module_version": "1.5.0",
            "box_style": "",
            "layout": "IPY_MODEL_447580a1376a4297a6bd3442e112f0d3",
            "_model_module": "@jupyter-widgets/controls",
            "children": [
              "IPY_MODEL_4ff4eeef76484149922e5117d76ef56c",
              "IPY_MODEL_788e043eb98947f395d814b350896fa1"
            ]
          }
        },
        "447580a1376a4297a6bd3442e112f0d3": {
          "model_module": "@jupyter-widgets/base",
          "model_name": "LayoutModel",
          "state": {
            "_view_name": "LayoutView",
            "grid_template_rows": null,
            "right": null,
            "justify_content": null,
            "_view_module": "@jupyter-widgets/base",
            "overflow": null,
            "_model_module_version": "1.2.0",
            "_view_count": null,
            "flex_flow": null,
            "width": null,
            "min_width": null,
            "border": null,
            "align_items": null,
            "bottom": null,
            "_model_module": "@jupyter-widgets/base",
            "top": null,
            "grid_column": null,
            "overflow_y": null,
            "overflow_x": null,
            "grid_auto_flow": null,
            "grid_area": null,
            "grid_template_columns": null,
            "flex": null,
            "_model_name": "LayoutModel",
            "justify_items": null,
            "grid_row": null,
            "max_height": null,
            "align_content": null,
            "visibility": null,
            "align_self": null,
            "height": null,
            "min_height": null,
            "padding": null,
            "grid_auto_rows": null,
            "grid_gap": null,
            "max_width": null,
            "order": null,
            "_view_module_version": "1.2.0",
            "grid_template_areas": null,
            "object_position": null,
            "object_fit": null,
            "grid_auto_columns": null,
            "margin": null,
            "display": null,
            "left": null
          }
        },
        "4ff4eeef76484149922e5117d76ef56c": {
          "model_module": "@jupyter-widgets/controls",
          "model_name": "FloatProgressModel",
          "state": {
            "_view_name": "ProgressView",
            "style": "IPY_MODEL_862660fc4fdb4b659940ec27b78ef41c",
            "_dom_classes": [],
            "description": "",
            "_model_name": "FloatProgressModel",
            "bar_style": "info",
            "max": 1,
            "_view_module": "@jupyter-widgets/controls",
            "_model_module_version": "1.5.0",
            "value": 1,
            "_view_count": null,
            "_view_module_version": "1.5.0",
            "orientation": "horizontal",
            "min": 0,
            "description_tooltip": null,
            "_model_module": "@jupyter-widgets/controls",
            "layout": "IPY_MODEL_d222bc028b254dd2911b11091d0b2b08"
          }
        },
        "788e043eb98947f395d814b350896fa1": {
          "model_module": "@jupyter-widgets/controls",
          "model_name": "HTMLModel",
          "state": {
            "_view_name": "HTMLView",
            "style": "IPY_MODEL_9dfe9dc533cd4f7da6c6152cd6a12fb6",
            "_dom_classes": [],
            "description": "",
            "_model_name": "HTMLModel",
            "placeholder": "​",
            "_view_module": "@jupyter-widgets/controls",
            "_model_module_version": "1.5.0",
            "value": " 9920512/? [00:20&lt;00:00, 1579322.80it/s]",
            "_view_count": null,
            "_view_module_version": "1.5.0",
            "description_tooltip": null,
            "_model_module": "@jupyter-widgets/controls",
            "layout": "IPY_MODEL_7c2fd014d49c4c5bae429e8d8b185bb1"
          }
        },
        "862660fc4fdb4b659940ec27b78ef41c": {
          "model_module": "@jupyter-widgets/controls",
          "model_name": "ProgressStyleModel",
          "state": {
            "_view_name": "StyleView",
            "_model_name": "ProgressStyleModel",
            "description_width": "initial",
            "_view_module": "@jupyter-widgets/base",
            "_model_module_version": "1.5.0",
            "_view_count": null,
            "_view_module_version": "1.2.0",
            "bar_color": null,
            "_model_module": "@jupyter-widgets/controls"
          }
        },
        "d222bc028b254dd2911b11091d0b2b08": {
          "model_module": "@jupyter-widgets/base",
          "model_name": "LayoutModel",
          "state": {
            "_view_name": "LayoutView",
            "grid_template_rows": null,
            "right": null,
            "justify_content": null,
            "_view_module": "@jupyter-widgets/base",
            "overflow": null,
            "_model_module_version": "1.2.0",
            "_view_count": null,
            "flex_flow": null,
            "width": null,
            "min_width": null,
            "border": null,
            "align_items": null,
            "bottom": null,
            "_model_module": "@jupyter-widgets/base",
            "top": null,
            "grid_column": null,
            "overflow_y": null,
            "overflow_x": null,
            "grid_auto_flow": null,
            "grid_area": null,
            "grid_template_columns": null,
            "flex": null,
            "_model_name": "LayoutModel",
            "justify_items": null,
            "grid_row": null,
            "max_height": null,
            "align_content": null,
            "visibility": null,
            "align_self": null,
            "height": null,
            "min_height": null,
            "padding": null,
            "grid_auto_rows": null,
            "grid_gap": null,
            "max_width": null,
            "order": null,
            "_view_module_version": "1.2.0",
            "grid_template_areas": null,
            "object_position": null,
            "object_fit": null,
            "grid_auto_columns": null,
            "margin": null,
            "display": null,
            "left": null
          }
        },
        "9dfe9dc533cd4f7da6c6152cd6a12fb6": {
          "model_module": "@jupyter-widgets/controls",
          "model_name": "DescriptionStyleModel",
          "state": {
            "_view_name": "StyleView",
            "_model_name": "DescriptionStyleModel",
            "description_width": "",
            "_view_module": "@jupyter-widgets/base",
            "_model_module_version": "1.5.0",
            "_view_count": null,
            "_view_module_version": "1.2.0",
            "_model_module": "@jupyter-widgets/controls"
          }
        },
        "7c2fd014d49c4c5bae429e8d8b185bb1": {
          "model_module": "@jupyter-widgets/base",
          "model_name": "LayoutModel",
          "state": {
            "_view_name": "LayoutView",
            "grid_template_rows": null,
            "right": null,
            "justify_content": null,
            "_view_module": "@jupyter-widgets/base",
            "overflow": null,
            "_model_module_version": "1.2.0",
            "_view_count": null,
            "flex_flow": null,
            "width": null,
            "min_width": null,
            "border": null,
            "align_items": null,
            "bottom": null,
            "_model_module": "@jupyter-widgets/base",
            "top": null,
            "grid_column": null,
            "overflow_y": null,
            "overflow_x": null,
            "grid_auto_flow": null,
            "grid_area": null,
            "grid_template_columns": null,
            "flex": null,
            "_model_name": "LayoutModel",
            "justify_items": null,
            "grid_row": null,
            "max_height": null,
            "align_content": null,
            "visibility": null,
            "align_self": null,
            "height": null,
            "min_height": null,
            "padding": null,
            "grid_auto_rows": null,
            "grid_gap": null,
            "max_width": null,
            "order": null,
            "_view_module_version": "1.2.0",
            "grid_template_areas": null,
            "object_position": null,
            "object_fit": null,
            "grid_auto_columns": null,
            "margin": null,
            "display": null,
            "left": null
          }
        },
        "5449697f0e5d4862a471af775b929eb4": {
          "model_module": "@jupyter-widgets/controls",
          "model_name": "HBoxModel",
          "state": {
            "_view_name": "HBoxView",
            "_dom_classes": [],
            "_model_name": "HBoxModel",
            "_view_module": "@jupyter-widgets/controls",
            "_model_module_version": "1.5.0",
            "_view_count": null,
            "_view_module_version": "1.5.0",
            "box_style": "",
            "layout": "IPY_MODEL_45cfc8d9bcc3478fb637427b73198348",
            "_model_module": "@jupyter-widgets/controls",
            "children": [
              "IPY_MODEL_1ee0ef95f22d44809a96adf240afecb1",
              "IPY_MODEL_86f1044f06644dd5abd8705004957216"
            ]
          }
        },
        "45cfc8d9bcc3478fb637427b73198348": {
          "model_module": "@jupyter-widgets/base",
          "model_name": "LayoutModel",
          "state": {
            "_view_name": "LayoutView",
            "grid_template_rows": null,
            "right": null,
            "justify_content": null,
            "_view_module": "@jupyter-widgets/base",
            "overflow": null,
            "_model_module_version": "1.2.0",
            "_view_count": null,
            "flex_flow": null,
            "width": null,
            "min_width": null,
            "border": null,
            "align_items": null,
            "bottom": null,
            "_model_module": "@jupyter-widgets/base",
            "top": null,
            "grid_column": null,
            "overflow_y": null,
            "overflow_x": null,
            "grid_auto_flow": null,
            "grid_area": null,
            "grid_template_columns": null,
            "flex": null,
            "_model_name": "LayoutModel",
            "justify_items": null,
            "grid_row": null,
            "max_height": null,
            "align_content": null,
            "visibility": null,
            "align_self": null,
            "height": null,
            "min_height": null,
            "padding": null,
            "grid_auto_rows": null,
            "grid_gap": null,
            "max_width": null,
            "order": null,
            "_view_module_version": "1.2.0",
            "grid_template_areas": null,
            "object_position": null,
            "object_fit": null,
            "grid_auto_columns": null,
            "margin": null,
            "display": null,
            "left": null
          }
        },
        "1ee0ef95f22d44809a96adf240afecb1": {
          "model_module": "@jupyter-widgets/controls",
          "model_name": "FloatProgressModel",
          "state": {
            "_view_name": "ProgressView",
            "style": "IPY_MODEL_fd4ba5d8611f45e58f2a83e73c953744",
            "_dom_classes": [],
            "description": "",
            "_model_name": "FloatProgressModel",
            "bar_style": "success",
            "max": 1,
            "_view_module": "@jupyter-widgets/controls",
            "_model_module_version": "1.5.0",
            "value": 1,
            "_view_count": null,
            "_view_module_version": "1.5.0",
            "orientation": "horizontal",
            "min": 0,
            "description_tooltip": null,
            "_model_module": "@jupyter-widgets/controls",
            "layout": "IPY_MODEL_caa5099f8a864e928529f4a458e41b4a"
          }
        },
        "86f1044f06644dd5abd8705004957216": {
          "model_module": "@jupyter-widgets/controls",
          "model_name": "HTMLModel",
          "state": {
            "_view_name": "HTMLView",
            "style": "IPY_MODEL_f43a166a0dcb46e78d1a19ccc1b1626a",
            "_dom_classes": [],
            "description": "",
            "_model_name": "HTMLModel",
            "placeholder": "​",
            "_view_module": "@jupyter-widgets/controls",
            "_model_module_version": "1.5.0",
            "value": " 32768/? [00:04&lt;00:00, 6939.90it/s]",
            "_view_count": null,
            "_view_module_version": "1.5.0",
            "description_tooltip": null,
            "_model_module": "@jupyter-widgets/controls",
            "layout": "IPY_MODEL_08eac55c1dc54e728f5d85916be36f84"
          }
        },
        "fd4ba5d8611f45e58f2a83e73c953744": {
          "model_module": "@jupyter-widgets/controls",
          "model_name": "ProgressStyleModel",
          "state": {
            "_view_name": "StyleView",
            "_model_name": "ProgressStyleModel",
            "description_width": "initial",
            "_view_module": "@jupyter-widgets/base",
            "_model_module_version": "1.5.0",
            "_view_count": null,
            "_view_module_version": "1.2.0",
            "bar_color": null,
            "_model_module": "@jupyter-widgets/controls"
          }
        },
        "caa5099f8a864e928529f4a458e41b4a": {
          "model_module": "@jupyter-widgets/base",
          "model_name": "LayoutModel",
          "state": {
            "_view_name": "LayoutView",
            "grid_template_rows": null,
            "right": null,
            "justify_content": null,
            "_view_module": "@jupyter-widgets/base",
            "overflow": null,
            "_model_module_version": "1.2.0",
            "_view_count": null,
            "flex_flow": null,
            "width": null,
            "min_width": null,
            "border": null,
            "align_items": null,
            "bottom": null,
            "_model_module": "@jupyter-widgets/base",
            "top": null,
            "grid_column": null,
            "overflow_y": null,
            "overflow_x": null,
            "grid_auto_flow": null,
            "grid_area": null,
            "grid_template_columns": null,
            "flex": null,
            "_model_name": "LayoutModel",
            "justify_items": null,
            "grid_row": null,
            "max_height": null,
            "align_content": null,
            "visibility": null,
            "align_self": null,
            "height": null,
            "min_height": null,
            "padding": null,
            "grid_auto_rows": null,
            "grid_gap": null,
            "max_width": null,
            "order": null,
            "_view_module_version": "1.2.0",
            "grid_template_areas": null,
            "object_position": null,
            "object_fit": null,
            "grid_auto_columns": null,
            "margin": null,
            "display": null,
            "left": null
          }
        },
        "f43a166a0dcb46e78d1a19ccc1b1626a": {
          "model_module": "@jupyter-widgets/controls",
          "model_name": "DescriptionStyleModel",
          "state": {
            "_view_name": "StyleView",
            "_model_name": "DescriptionStyleModel",
            "description_width": "",
            "_view_module": "@jupyter-widgets/base",
            "_model_module_version": "1.5.0",
            "_view_count": null,
            "_view_module_version": "1.2.0",
            "_model_module": "@jupyter-widgets/controls"
          }
        },
        "08eac55c1dc54e728f5d85916be36f84": {
          "model_module": "@jupyter-widgets/base",
          "model_name": "LayoutModel",
          "state": {
            "_view_name": "LayoutView",
            "grid_template_rows": null,
            "right": null,
            "justify_content": null,
            "_view_module": "@jupyter-widgets/base",
            "overflow": null,
            "_model_module_version": "1.2.0",
            "_view_count": null,
            "flex_flow": null,
            "width": null,
            "min_width": null,
            "border": null,
            "align_items": null,
            "bottom": null,
            "_model_module": "@jupyter-widgets/base",
            "top": null,
            "grid_column": null,
            "overflow_y": null,
            "overflow_x": null,
            "grid_auto_flow": null,
            "grid_area": null,
            "grid_template_columns": null,
            "flex": null,
            "_model_name": "LayoutModel",
            "justify_items": null,
            "grid_row": null,
            "max_height": null,
            "align_content": null,
            "visibility": null,
            "align_self": null,
            "height": null,
            "min_height": null,
            "padding": null,
            "grid_auto_rows": null,
            "grid_gap": null,
            "max_width": null,
            "order": null,
            "_view_module_version": "1.2.0",
            "grid_template_areas": null,
            "object_position": null,
            "object_fit": null,
            "grid_auto_columns": null,
            "margin": null,
            "display": null,
            "left": null
          }
        },
        "6fadc5aec0e84e0889728b870fb5c99f": {
          "model_module": "@jupyter-widgets/controls",
          "model_name": "HBoxModel",
          "state": {
            "_view_name": "HBoxView",
            "_dom_classes": [],
            "_model_name": "HBoxModel",
            "_view_module": "@jupyter-widgets/controls",
            "_model_module_version": "1.5.0",
            "_view_count": null,
            "_view_module_version": "1.5.0",
            "box_style": "",
            "layout": "IPY_MODEL_5545f5cdc177429ab08b969c577c781a",
            "_model_module": "@jupyter-widgets/controls",
            "children": [
              "IPY_MODEL_f1a29ed564344d2daed33ebcf1c96c13",
              "IPY_MODEL_5cbcfa460dbe4bd88339633ddcd96942"
            ]
          }
        },
        "5545f5cdc177429ab08b969c577c781a": {
          "model_module": "@jupyter-widgets/base",
          "model_name": "LayoutModel",
          "state": {
            "_view_name": "LayoutView",
            "grid_template_rows": null,
            "right": null,
            "justify_content": null,
            "_view_module": "@jupyter-widgets/base",
            "overflow": null,
            "_model_module_version": "1.2.0",
            "_view_count": null,
            "flex_flow": null,
            "width": null,
            "min_width": null,
            "border": null,
            "align_items": null,
            "bottom": null,
            "_model_module": "@jupyter-widgets/base",
            "top": null,
            "grid_column": null,
            "overflow_y": null,
            "overflow_x": null,
            "grid_auto_flow": null,
            "grid_area": null,
            "grid_template_columns": null,
            "flex": null,
            "_model_name": "LayoutModel",
            "justify_items": null,
            "grid_row": null,
            "max_height": null,
            "align_content": null,
            "visibility": null,
            "align_self": null,
            "height": null,
            "min_height": null,
            "padding": null,
            "grid_auto_rows": null,
            "grid_gap": null,
            "max_width": null,
            "order": null,
            "_view_module_version": "1.2.0",
            "grid_template_areas": null,
            "object_position": null,
            "object_fit": null,
            "grid_auto_columns": null,
            "margin": null,
            "display": null,
            "left": null
          }
        },
        "f1a29ed564344d2daed33ebcf1c96c13": {
          "model_module": "@jupyter-widgets/controls",
          "model_name": "FloatProgressModel",
          "state": {
            "_view_name": "ProgressView",
            "style": "IPY_MODEL_79cc15ab289f4b2986c8dd62dfd19fe8",
            "_dom_classes": [],
            "description": "",
            "_model_name": "FloatProgressModel",
            "bar_style": "success",
            "max": 1,
            "_view_module": "@jupyter-widgets/controls",
            "_model_module_version": "1.5.0",
            "value": 1,
            "_view_count": null,
            "_view_module_version": "1.5.0",
            "orientation": "horizontal",
            "min": 0,
            "description_tooltip": null,
            "_model_module": "@jupyter-widgets/controls",
            "layout": "IPY_MODEL_584460ea3c5e41ee916fc1f56c05324d"
          }
        },
        "5cbcfa460dbe4bd88339633ddcd96942": {
          "model_module": "@jupyter-widgets/controls",
          "model_name": "HTMLModel",
          "state": {
            "_view_name": "HTMLView",
            "style": "IPY_MODEL_58a04f9607de485eb26ac2efddd44560",
            "_dom_classes": [],
            "description": "",
            "_model_name": "HTMLModel",
            "placeholder": "​",
            "_view_module": "@jupyter-widgets/controls",
            "_model_module_version": "1.5.0",
            "value": " 1654784/? [00:04&lt;00:00, 407639.08it/s]",
            "_view_count": null,
            "_view_module_version": "1.5.0",
            "description_tooltip": null,
            "_model_module": "@jupyter-widgets/controls",
            "layout": "IPY_MODEL_c6b6440d8a2b4a7ea9b6fd034b507b24"
          }
        },
        "79cc15ab289f4b2986c8dd62dfd19fe8": {
          "model_module": "@jupyter-widgets/controls",
          "model_name": "ProgressStyleModel",
          "state": {
            "_view_name": "StyleView",
            "_model_name": "ProgressStyleModel",
            "description_width": "initial",
            "_view_module": "@jupyter-widgets/base",
            "_model_module_version": "1.5.0",
            "_view_count": null,
            "_view_module_version": "1.2.0",
            "bar_color": null,
            "_model_module": "@jupyter-widgets/controls"
          }
        },
        "584460ea3c5e41ee916fc1f56c05324d": {
          "model_module": "@jupyter-widgets/base",
          "model_name": "LayoutModel",
          "state": {
            "_view_name": "LayoutView",
            "grid_template_rows": null,
            "right": null,
            "justify_content": null,
            "_view_module": "@jupyter-widgets/base",
            "overflow": null,
            "_model_module_version": "1.2.0",
            "_view_count": null,
            "flex_flow": null,
            "width": null,
            "min_width": null,
            "border": null,
            "align_items": null,
            "bottom": null,
            "_model_module": "@jupyter-widgets/base",
            "top": null,
            "grid_column": null,
            "overflow_y": null,
            "overflow_x": null,
            "grid_auto_flow": null,
            "grid_area": null,
            "grid_template_columns": null,
            "flex": null,
            "_model_name": "LayoutModel",
            "justify_items": null,
            "grid_row": null,
            "max_height": null,
            "align_content": null,
            "visibility": null,
            "align_self": null,
            "height": null,
            "min_height": null,
            "padding": null,
            "grid_auto_rows": null,
            "grid_gap": null,
            "max_width": null,
            "order": null,
            "_view_module_version": "1.2.0",
            "grid_template_areas": null,
            "object_position": null,
            "object_fit": null,
            "grid_auto_columns": null,
            "margin": null,
            "display": null,
            "left": null
          }
        },
        "58a04f9607de485eb26ac2efddd44560": {
          "model_module": "@jupyter-widgets/controls",
          "model_name": "DescriptionStyleModel",
          "state": {
            "_view_name": "StyleView",
            "_model_name": "DescriptionStyleModel",
            "description_width": "",
            "_view_module": "@jupyter-widgets/base",
            "_model_module_version": "1.5.0",
            "_view_count": null,
            "_view_module_version": "1.2.0",
            "_model_module": "@jupyter-widgets/controls"
          }
        },
        "c6b6440d8a2b4a7ea9b6fd034b507b24": {
          "model_module": "@jupyter-widgets/base",
          "model_name": "LayoutModel",
          "state": {
            "_view_name": "LayoutView",
            "grid_template_rows": null,
            "right": null,
            "justify_content": null,
            "_view_module": "@jupyter-widgets/base",
            "overflow": null,
            "_model_module_version": "1.2.0",
            "_view_count": null,
            "flex_flow": null,
            "width": null,
            "min_width": null,
            "border": null,
            "align_items": null,
            "bottom": null,
            "_model_module": "@jupyter-widgets/base",
            "top": null,
            "grid_column": null,
            "overflow_y": null,
            "overflow_x": null,
            "grid_auto_flow": null,
            "grid_area": null,
            "grid_template_columns": null,
            "flex": null,
            "_model_name": "LayoutModel",
            "justify_items": null,
            "grid_row": null,
            "max_height": null,
            "align_content": null,
            "visibility": null,
            "align_self": null,
            "height": null,
            "min_height": null,
            "padding": null,
            "grid_auto_rows": null,
            "grid_gap": null,
            "max_width": null,
            "order": null,
            "_view_module_version": "1.2.0",
            "grid_template_areas": null,
            "object_position": null,
            "object_fit": null,
            "grid_auto_columns": null,
            "margin": null,
            "display": null,
            "left": null
          }
        },
        "f64ae4517ee74a23905f14e2a1463ea5": {
          "model_module": "@jupyter-widgets/controls",
          "model_name": "HBoxModel",
          "state": {
            "_view_name": "HBoxView",
            "_dom_classes": [],
            "_model_name": "HBoxModel",
            "_view_module": "@jupyter-widgets/controls",
            "_model_module_version": "1.5.0",
            "_view_count": null,
            "_view_module_version": "1.5.0",
            "box_style": "",
            "layout": "IPY_MODEL_c23af7a646f54db98fcf73dea77f4e78",
            "_model_module": "@jupyter-widgets/controls",
            "children": [
              "IPY_MODEL_153719012aea42b79f729a9d397ccb65",
              "IPY_MODEL_8fa911a6074b468e9fdd04d715c0a2ac"
            ]
          }
        },
        "c23af7a646f54db98fcf73dea77f4e78": {
          "model_module": "@jupyter-widgets/base",
          "model_name": "LayoutModel",
          "state": {
            "_view_name": "LayoutView",
            "grid_template_rows": null,
            "right": null,
            "justify_content": null,
            "_view_module": "@jupyter-widgets/base",
            "overflow": null,
            "_model_module_version": "1.2.0",
            "_view_count": null,
            "flex_flow": null,
            "width": null,
            "min_width": null,
            "border": null,
            "align_items": null,
            "bottom": null,
            "_model_module": "@jupyter-widgets/base",
            "top": null,
            "grid_column": null,
            "overflow_y": null,
            "overflow_x": null,
            "grid_auto_flow": null,
            "grid_area": null,
            "grid_template_columns": null,
            "flex": null,
            "_model_name": "LayoutModel",
            "justify_items": null,
            "grid_row": null,
            "max_height": null,
            "align_content": null,
            "visibility": null,
            "align_self": null,
            "height": null,
            "min_height": null,
            "padding": null,
            "grid_auto_rows": null,
            "grid_gap": null,
            "max_width": null,
            "order": null,
            "_view_module_version": "1.2.0",
            "grid_template_areas": null,
            "object_position": null,
            "object_fit": null,
            "grid_auto_columns": null,
            "margin": null,
            "display": null,
            "left": null
          }
        },
        "153719012aea42b79f729a9d397ccb65": {
          "model_module": "@jupyter-widgets/controls",
          "model_name": "FloatProgressModel",
          "state": {
            "_view_name": "ProgressView",
            "style": "IPY_MODEL_c23ffa29514c4bcda55c3ea0b9aa1252",
            "_dom_classes": [],
            "description": "",
            "_model_name": "FloatProgressModel",
            "bar_style": "success",
            "max": 1,
            "_view_module": "@jupyter-widgets/controls",
            "_model_module_version": "1.5.0",
            "value": 1,
            "_view_count": null,
            "_view_module_version": "1.5.0",
            "orientation": "horizontal",
            "min": 0,
            "description_tooltip": null,
            "_model_module": "@jupyter-widgets/controls",
            "layout": "IPY_MODEL_b14128b042a04048ba93987474be5b86"
          }
        },
        "8fa911a6074b468e9fdd04d715c0a2ac": {
          "model_module": "@jupyter-widgets/controls",
          "model_name": "HTMLModel",
          "state": {
            "_view_name": "HTMLView",
            "style": "IPY_MODEL_adf9921cfdbe49d39d93f9966b846324",
            "_dom_classes": [],
            "description": "",
            "_model_name": "HTMLModel",
            "placeholder": "​",
            "_view_module": "@jupyter-widgets/controls",
            "_model_module_version": "1.5.0",
            "value": " 8192/? [00:02&lt;00:00, 3494.58it/s]",
            "_view_count": null,
            "_view_module_version": "1.5.0",
            "description_tooltip": null,
            "_model_module": "@jupyter-widgets/controls",
            "layout": "IPY_MODEL_9672b4a3134d45d1b85aab648ebb073d"
          }
        },
        "c23ffa29514c4bcda55c3ea0b9aa1252": {
          "model_module": "@jupyter-widgets/controls",
          "model_name": "ProgressStyleModel",
          "state": {
            "_view_name": "StyleView",
            "_model_name": "ProgressStyleModel",
            "description_width": "initial",
            "_view_module": "@jupyter-widgets/base",
            "_model_module_version": "1.5.0",
            "_view_count": null,
            "_view_module_version": "1.2.0",
            "bar_color": null,
            "_model_module": "@jupyter-widgets/controls"
          }
        },
        "b14128b042a04048ba93987474be5b86": {
          "model_module": "@jupyter-widgets/base",
          "model_name": "LayoutModel",
          "state": {
            "_view_name": "LayoutView",
            "grid_template_rows": null,
            "right": null,
            "justify_content": null,
            "_view_module": "@jupyter-widgets/base",
            "overflow": null,
            "_model_module_version": "1.2.0",
            "_view_count": null,
            "flex_flow": null,
            "width": null,
            "min_width": null,
            "border": null,
            "align_items": null,
            "bottom": null,
            "_model_module": "@jupyter-widgets/base",
            "top": null,
            "grid_column": null,
            "overflow_y": null,
            "overflow_x": null,
            "grid_auto_flow": null,
            "grid_area": null,
            "grid_template_columns": null,
            "flex": null,
            "_model_name": "LayoutModel",
            "justify_items": null,
            "grid_row": null,
            "max_height": null,
            "align_content": null,
            "visibility": null,
            "align_self": null,
            "height": null,
            "min_height": null,
            "padding": null,
            "grid_auto_rows": null,
            "grid_gap": null,
            "max_width": null,
            "order": null,
            "_view_module_version": "1.2.0",
            "grid_template_areas": null,
            "object_position": null,
            "object_fit": null,
            "grid_auto_columns": null,
            "margin": null,
            "display": null,
            "left": null
          }
        },
        "adf9921cfdbe49d39d93f9966b846324": {
          "model_module": "@jupyter-widgets/controls",
          "model_name": "DescriptionStyleModel",
          "state": {
            "_view_name": "StyleView",
            "_model_name": "DescriptionStyleModel",
            "description_width": "",
            "_view_module": "@jupyter-widgets/base",
            "_model_module_version": "1.5.0",
            "_view_count": null,
            "_view_module_version": "1.2.0",
            "_model_module": "@jupyter-widgets/controls"
          }
        },
        "9672b4a3134d45d1b85aab648ebb073d": {
          "model_module": "@jupyter-widgets/base",
          "model_name": "LayoutModel",
          "state": {
            "_view_name": "LayoutView",
            "grid_template_rows": null,
            "right": null,
            "justify_content": null,
            "_view_module": "@jupyter-widgets/base",
            "overflow": null,
            "_model_module_version": "1.2.0",
            "_view_count": null,
            "flex_flow": null,
            "width": null,
            "min_width": null,
            "border": null,
            "align_items": null,
            "bottom": null,
            "_model_module": "@jupyter-widgets/base",
            "top": null,
            "grid_column": null,
            "overflow_y": null,
            "overflow_x": null,
            "grid_auto_flow": null,
            "grid_area": null,
            "grid_template_columns": null,
            "flex": null,
            "_model_name": "LayoutModel",
            "justify_items": null,
            "grid_row": null,
            "max_height": null,
            "align_content": null,
            "visibility": null,
            "align_self": null,
            "height": null,
            "min_height": null,
            "padding": null,
            "grid_auto_rows": null,
            "grid_gap": null,
            "max_width": null,
            "order": null,
            "_view_module_version": "1.2.0",
            "grid_template_areas": null,
            "object_position": null,
            "object_fit": null,
            "grid_auto_columns": null,
            "margin": null,
            "display": null,
            "left": null
          }
        }
      }
    }
  },
  "cells": [
    {
      "cell_type": "markdown",
      "metadata": {
        "id": "pKGF1ZLh8GXE"
      },
      "source": [
        "#Training a Neural Network in PyTorch#\n",
        "\n",
        "PyTorch is a powerful, widely-used machine learning library. It has all the latest neural network layers and functions and supports GPU computation.\n",
        "\n",
        "Most neural network research these days either happens in PyTorch or TensorFlow. Google Research develops TensorFlow while Facebook AI Research develops PyTorch. Functionally they are probably very similar, I just know a lot of people who use PyTorch and it seems like it might be somewhat easier for beginners to learn. It is important to have some experience in one of these two frameworks but if you understand the ideas and concepts you shouldn't have too much trouble moving between them.\n",
        "\n",
        "The `torch` library provides the basic functions we need when dealing with `tensors`. `tensors` are a generalization of matrices to arbirtrary numbers of dimensions (a matrix is a 2D tensor). Types of tensors:\n",
        "\n",
        "\n",
        "*   0 dimensional: Scalar\n",
        "*   1 dimensional: Array\n",
        "*   2 dimensional: Matrix\n",
        "*   3 dimensional: Number cubey thingy\n",
        "*   4 dimensional: ?????\n",
        "\n",
        "Anywho, let's start with our opening chant to invoke the power of PyTorch to aid us. The last line is a special call to the GPU gods to smile on our endeavor.\n"
      ]
    },
    {
      "cell_type": "code",
      "metadata": {
        "id": "ehrybK-XPJrr"
      },
      "source": [
        "import torch\n",
        "import torchvision\n",
        "import torchvision.transforms as transforms\n",
        "\n",
        "device = torch.device(\"cuda:0\" if torch.cuda.is_available() else \"cpu\")"
      ],
      "execution_count": null,
      "outputs": []
    },
    {
      "cell_type": "markdown",
      "metadata": {
        "id": "T7rPSRhhBoQc"
      },
      "source": [
        "##Time For Some Data##\n",
        "\n",
        "PyTorch has some built tools for downloading and loading common datasets. We'll be playing around with MNIST in this example. It is a dataset of 28x28 grayscale handwritten digits 0-9. There are 50,000 images in the training set and 10,000 in the test set.\n",
        "\n"
      ]
    },
    {
      "cell_type": "code",
      "metadata": {
        "id": "iMUkulSBTNwo",
        "outputId": "b93295de-4716-48ac-e92a-8849ab672038",
        "colab": {
          "base_uri": "https://localhost:8080/",
          "height": 387,
          "referenced_widgets": [
            "b09c0c5d8fe741d38e575a8c280d6da1",
            "447580a1376a4297a6bd3442e112f0d3",
            "4ff4eeef76484149922e5117d76ef56c",
            "788e043eb98947f395d814b350896fa1",
            "862660fc4fdb4b659940ec27b78ef41c",
            "d222bc028b254dd2911b11091d0b2b08",
            "9dfe9dc533cd4f7da6c6152cd6a12fb6",
            "7c2fd014d49c4c5bae429e8d8b185bb1",
            "5449697f0e5d4862a471af775b929eb4",
            "45cfc8d9bcc3478fb637427b73198348",
            "1ee0ef95f22d44809a96adf240afecb1",
            "86f1044f06644dd5abd8705004957216",
            "fd4ba5d8611f45e58f2a83e73c953744",
            "caa5099f8a864e928529f4a458e41b4a",
            "f43a166a0dcb46e78d1a19ccc1b1626a",
            "08eac55c1dc54e728f5d85916be36f84",
            "6fadc5aec0e84e0889728b870fb5c99f",
            "5545f5cdc177429ab08b969c577c781a",
            "f1a29ed564344d2daed33ebcf1c96c13",
            "5cbcfa460dbe4bd88339633ddcd96942",
            "79cc15ab289f4b2986c8dd62dfd19fe8",
            "584460ea3c5e41ee916fc1f56c05324d",
            "58a04f9607de485eb26ac2efddd44560",
            "c6b6440d8a2b4a7ea9b6fd034b507b24",
            "f64ae4517ee74a23905f14e2a1463ea5",
            "c23af7a646f54db98fcf73dea77f4e78",
            "153719012aea42b79f729a9d397ccb65",
            "8fa911a6074b468e9fdd04d715c0a2ac",
            "c23ffa29514c4bcda55c3ea0b9aa1252",
            "b14128b042a04048ba93987474be5b86",
            "adf9921cfdbe49d39d93f9966b846324",
            "9672b4a3134d45d1b85aab648ebb073d"
          ]
        }
      },
      "source": [
        "def get_mnist_data():\n",
        "  trainset = torchvision.datasets.MNIST(root='./data', train=True, download=True,\n",
        "                                        transform=transforms.ToTensor())\n",
        "  trainloader = torch.utils.data.DataLoader(trainset, batch_size=32, shuffle=True,\n",
        "                                            num_workers=8)\n",
        "\n",
        "  testset = torchvision.datasets.MNIST(root='./data', train=False, download=True,\n",
        "                                      transform=transforms.ToTensor())\n",
        "  testloader = torch.utils.data.DataLoader(testset, batch_size=32, shuffle=False,\n",
        "                                          num_workers=8)\n",
        "  classes = range(10)\n",
        "  return {'train': trainloader, 'test': testloader, 'classes': classes}\n",
        "\n",
        "data = get_mnist_data()"
      ],
      "execution_count": null,
      "outputs": [
        {
          "output_type": "stream",
          "text": [
            "Downloading http://yann.lecun.com/exdb/mnist/train-images-idx3-ubyte.gz to ./data/MNIST/raw/train-images-idx3-ubyte.gz\n"
          ],
          "name": "stdout"
        },
        {
          "output_type": "display_data",
          "data": {
            "application/vnd.jupyter.widget-view+json": {
              "model_id": "b09c0c5d8fe741d38e575a8c280d6da1",
              "version_minor": 0,
              "version_major": 2
            },
            "text/plain": [
              "HBox(children=(FloatProgress(value=1.0, bar_style='info', max=1.0), HTML(value='')))"
            ]
          },
          "metadata": {
            "tags": []
          }
        },
        {
          "output_type": "stream",
          "text": [
            "Extracting ./data/MNIST/raw/train-images-idx3-ubyte.gz to ./data/MNIST/raw\n",
            "Downloading http://yann.lecun.com/exdb/mnist/train-labels-idx1-ubyte.gz to ./data/MNIST/raw/train-labels-idx1-ubyte.gz\n"
          ],
          "name": "stdout"
        },
        {
          "output_type": "display_data",
          "data": {
            "application/vnd.jupyter.widget-view+json": {
              "model_id": "5449697f0e5d4862a471af775b929eb4",
              "version_minor": 0,
              "version_major": 2
            },
            "text/plain": [
              "HBox(children=(FloatProgress(value=1.0, bar_style='info', max=1.0), HTML(value='')))"
            ]
          },
          "metadata": {
            "tags": []
          }
        },
        {
          "output_type": "stream",
          "text": [
            "Extracting ./data/MNIST/raw/train-labels-idx1-ubyte.gz to ./data/MNIST/raw\n",
            "Downloading http://yann.lecun.com/exdb/mnist/t10k-images-idx3-ubyte.gz to ./data/MNIST/raw/t10k-images-idx3-ubyte.gz\n"
          ],
          "name": "stdout"
        },
        {
          "output_type": "display_data",
          "data": {
            "application/vnd.jupyter.widget-view+json": {
              "model_id": "6fadc5aec0e84e0889728b870fb5c99f",
              "version_minor": 0,
              "version_major": 2
            },
            "text/plain": [
              "HBox(children=(FloatProgress(value=1.0, bar_style='info', max=1.0), HTML(value='')))"
            ]
          },
          "metadata": {
            "tags": []
          }
        },
        {
          "output_type": "stream",
          "text": [
            "Extracting ./data/MNIST/raw/t10k-images-idx3-ubyte.gz to ./data/MNIST/raw\n",
            "Downloading http://yann.lecun.com/exdb/mnist/t10k-labels-idx1-ubyte.gz to ./data/MNIST/raw/t10k-labels-idx1-ubyte.gz\n"
          ],
          "name": "stdout"
        },
        {
          "output_type": "display_data",
          "data": {
            "application/vnd.jupyter.widget-view+json": {
              "model_id": "f64ae4517ee74a23905f14e2a1463ea5",
              "version_minor": 0,
              "version_major": 2
            },
            "text/plain": [
              "HBox(children=(FloatProgress(value=1.0, bar_style='info', max=1.0), HTML(value='')))"
            ]
          },
          "metadata": {
            "tags": []
          }
        },
        {
          "output_type": "stream",
          "text": [
            "Extracting ./data/MNIST/raw/t10k-labels-idx1-ubyte.gz to ./data/MNIST/raw\n",
            "Processing...\n",
            "Done!\n"
          ],
          "name": "stdout"
        },
        {
          "output_type": "stream",
          "text": [
            "/usr/local/lib/python3.6/dist-packages/torchvision/datasets/mnist.py:469: UserWarning: The given NumPy array is not writeable, and PyTorch does not support non-writeable tensors. This means you can write to the underlying (supposedly non-writeable) NumPy array using the tensor. You may want to copy the array to protect its data or make it writeable before converting it to a tensor. This type of warning will be suppressed for the rest of this program. (Triggered internally at  /pytorch/torch/csrc/utils/tensor_numpy.cpp:141.)\n",
            "  return torch.from_numpy(parsed.astype(m[2], copy=False)).view(*s)\n"
          ],
          "name": "stderr"
        }
      ]
    },
    {
      "cell_type": "markdown",
      "metadata": {
        "id": "xI_PZ2Pus5cF"
      },
      "source": [
        "###Understanding Our Data ###\n",
        "It's worthwhile to check out how our dataloader loads the images into tensors. We can print out the size of the loaded data in the `images` tensors.\n",
        "\n"
      ]
    },
    {
      "cell_type": "code",
      "metadata": {
        "id": "P1HO7vN-T5P4",
        "outputId": "b10bcd24-6330-46d9-bf38-4ebfe4efa51f",
        "colab": {
          "base_uri": "https://localhost:8080/",
          "height": 35
        }
      },
      "source": [
        "# get some random training images\n",
        "dataiter = iter(data['train'])\n",
        "images, labels = dataiter.next()\n",
        "print(images.size())"
      ],
      "execution_count": null,
      "outputs": [
        {
          "output_type": "stream",
          "text": [
            "torch.Size([32, 1, 28, 28])\n"
          ],
          "name": "stdout"
        }
      ]
    },
    {
      "cell_type": "markdown",
      "metadata": {
        "id": "C2h61JjW7rh1"
      },
      "source": [
        "Our `images` tensor is 4-dimensional, (32 x 1 x 28 x 28)\n",
        "\n",
        "PyTorch stores image data in (N x C x H x W) format. Thus the size of this tensor implies we have a mini-batch of 32 images, each have a single channel (grayscale), and each image is 28 x 28, so that makes sense!\n",
        "\n",
        "We can use matplotlib to see what our data looks like:"
      ]
    },
    {
      "cell_type": "code",
      "metadata": {
        "id": "E42h6plq63Ar",
        "outputId": "9d32935c-a212-4b1c-bde0-51ba70b1cb51",
        "colab": {
          "base_uri": "https://localhost:8080/",
          "height": 238
        }
      },
      "source": [
        "import matplotlib.pyplot as plt\n",
        "import numpy as np\n",
        "\n",
        "def imshow(img):\n",
        "    npimg = img.numpy()\n",
        "    plt.imshow(np.transpose(npimg, (1, 2, 0)))\n",
        "    plt.show()\n",
        "\n",
        "# show images\n",
        "imshow(torchvision.utils.make_grid(images))\n",
        "# print labels\n",
        "print(' '.join('%9s' % data['classes'][labels[j]] for j in range(4)))\n"
      ],
      "execution_count": null,
      "outputs": [
        {
          "output_type": "display_data",
          "data": {
            "image/png": "[encoded data removed]",
            "text/plain": [
              "<Figure size 432x288 with 1 Axes>"
            ]
          },
          "metadata": {
            "tags": [],
            "needs_background": "light"
          }
        },
        {
          "output_type": "stream",
          "text": [
            "        7         3         3         3\n"
          ],
          "name": "stdout"
        }
      ]
    },
    {
      "cell_type": "markdown",
      "metadata": {
        "id": "0z2Zs4W74Rcv"
      },
      "source": [
        "##A Simple Network##\n",
        "\n",
        "First we'll build a very basic neural network with a single hidden layer of neurons. This means one fully connected layer of weights connects the input to the hidden neurons and one fully connected layer connects the hidden neurons to the output. We'll use the RELU activation function on the hidden neuron values as our nonlinearity.\n",
        "\n",
        "These fully connected (or `nn.Linear`) layers expect a 2D input tensor where that is N x I where N is the number of data points in a mini batch and I is the number of inputs. However, our data is formatted in (N x C x H x W) right now so we need to tell PyTorch to rearrange it using `torch.flatten`.\n",
        "\n",
        "After being `flatten`ed our data goes from (32 x 1 x 28 x 28) to being (32 x 784)"
      ]
    },
    {
      "cell_type": "code",
      "metadata": {
        "id": "RfglkbNyVLQY"
      },
      "source": [
        "import torch.nn as nn\n",
        "import torch.nn.functional as F\n",
        "\n",
        "\n",
        "class SimpleNet(nn.Module):\n",
        "    def __init__(self, inputs=28*28, hidden=512, outputs=10):\n",
        "        super(SimpleNet, self).__init__()\n",
        "        self.fc1 = nn.Linear(inputs, hidden)\n",
        "        self.fc2 = nn.Linear(hidden, outputs)\n",
        "\n",
        "    def forward(self, x):\n",
        "        x = torch.flatten(x, 1)\n",
        "        x = self.fc1(x)\n",
        "        x = F.relu(x)\n",
        "        x = self.fc2(x)\n",
        "        return x"
      ],
      "execution_count": null,
      "outputs": []
    },
    {
      "cell_type": "markdown",
      "metadata": {
        "id": "cBv5uxRHrdH_"
      },
      "source": [
        "###The Training Function ###\n",
        "\n",
        "Now for training our network. Our `train` function takes as input the `net` to train and the `dataloader` for the training data. It also takes some optional parameters to control training.\n",
        "\n",
        "For our network we'll be using PyTorch's built in `nn.CrossEntropyLoss`. This will apply a softmax to our network's output, calculate the log-probability assigned to each class, then try to minimize the negative log likelihood of our data (AKA maximize the likelihood)\n",
        "\n",
        "For our optimizer we are using stochastic gradient descent with learning rate, momentum, and decay parameters."
      ]
    },
    {
      "cell_type": "code",
      "metadata": {
        "id": "XrzP3OzSWLnV"
      },
      "source": [
        "import torch.optim as optim\n",
        "\n",
        "def train(net, dataloader, epochs=1, lr=0.01, momentum=0.9, decay=0.0, verbose=1):\n",
        "  net.to(device)\n",
        "  losses = []\n",
        "  criterion = nn.CrossEntropyLoss()\n",
        "  optimizer = optim.SGD(net.parameters(), lr=lr, momentum=momentum, weight_decay=decay)\n",
        "  for epoch in range(epochs):\n",
        "    sum_loss = 0.0\n",
        "    for i, batch in enumerate(dataloader, 0):\n",
        "        # get the inputs; data is a list of [inputs, labels]\n",
        "        inputs, labels = batch[0].to(device), batch[1].to(device)\n",
        "\n",
        "        # zero the parameter gradients\n",
        "        optimizer.zero_grad()\n",
        "\n",
        "        # forward + backward + optimize \n",
        "        outputs = net(inputs)\n",
        "        loss = criterion(outputs, labels)\n",
        "        loss.backward()\n",
        "        optimizer.step()\n",
        "\n",
        "        # print statistics\n",
        "        losses.append(loss.item())\n",
        "        sum_loss += loss.item()\n",
        "        if i % 100 == 99:    # print every 100 mini-batches\n",
        "            if verbose:\n",
        "              print('[%d, %5d] loss: %.3f' %\n",
        "                  (epoch + 1, i + 1, sum_loss / 100))\n",
        "            sum_loss = 0.0\n",
        "  return losses"
      ],
      "execution_count": null,
      "outputs": []
    },
    {
      "cell_type": "markdown",
      "metadata": {
        "id": "7PQs_ofgwmCt"
      },
      "source": [
        "###Training The Network###\n",
        "\n",
        "We'll instantiate a new network and train it on our training data.\n",
        "\n",
        "Our training function prints out some debug information about the epoch, batch number, and current loss values. It also returns a list of all the losses on our mini-batches so we can plot them all once training has finished."
      ]
    },
    {
      "cell_type": "code",
      "metadata": {
        "id": "ZnniOt6IsJjo",
        "outputId": "028cf777-f437-4161-ae6d-4c33a11b5d77",
        "colab": {
          "base_uri": "https://localhost:8080/",
          "height": 616
        }
      },
      "source": [
        "net = SimpleNet()\n",
        "\n",
        "losses = train(net, data['train'])\n",
        "plt.plot(losses)"
      ],
      "execution_count": null,
      "outputs": [
        {
          "output_type": "stream",
          "text": [
            "[1,   100] loss: 1.340\n",
            "[1,   200] loss: 0.527\n",
            "[1,   300] loss: 0.404\n",
            "[1,   400] loss: 0.366\n",
            "[1,   500] loss: 0.356\n",
            "[1,   600] loss: 0.308\n",
            "[1,   700] loss: 0.293\n",
            "[1,   800] loss: 0.281\n",
            "[1,   900] loss: 0.274\n",
            "[1,  1000] loss: 0.273\n",
            "[1,  1100] loss: 0.260\n",
            "[1,  1200] loss: 0.242\n",
            "[1,  1300] loss: 0.232\n",
            "[1,  1400] loss: 0.238\n",
            "[1,  1500] loss: 0.211\n",
            "[1,  1600] loss: 0.224\n",
            "[1,  1700] loss: 0.194\n",
            "[1,  1800] loss: 0.203\n"
          ],
          "name": "stdout"
        },
        {
          "output_type": "execute_result",
          "data": {
            "text/plain": [
              "[<matplotlib.lines.Line2D at 0x7f0474a6a358>]"
            ]
          },
          "metadata": {
            "tags": []
          },
          "execution_count": 8
        },
        {
          "output_type": "display_data",
          "data": {
            "image/png": "[encoded data removed]",
            "text/plain": [
              "<Figure size 432x288 with 1 Axes>"
            ]
          },
          "metadata": {
            "tags": [],
            "needs_background": "light"
          }
        }
      ]
    },
    {
      "cell_type": "markdown",
      "metadata": {
        "id": "AbQR1GAlzqQt"
      },
      "source": [
        "##Testing The Network##\n",
        "\n",
        "We trained our network! The loss went down! That's good, right? But how good is our network, exactly?\n",
        "\n",
        "Well, we can try running our network on a few of our test images and see what happens:"
      ]
    },
    {
      "cell_type": "code",
      "metadata": {
        "id": "jRnA3phakd4j",
        "outputId": "7df62831-5b63-401d-f637-9439cdc91e79",
        "colab": {
          "base_uri": "https://localhost:8080/",
          "height": 175
        }
      },
      "source": [
        "dataiter = iter(data['test'])\n",
        "images, labels = dataiter.next()\n",
        "images = images[:4]\n",
        "labels = labels[:4]\n",
        "\n",
        "# print images\n",
        "imshow(torchvision.utils.make_grid(images))\n",
        "print('GroundTruth: ', ' '.join('%5s' % data['classes'][labels[j]] for j in range(4)))\n",
        "outputs = net(images.to(device))\n",
        "_, predicted = torch.max(outputs, 1)\n",
        "\n",
        "print('Predicted: ', ' '.join('%5s' % data['classes'][predicted[j]]\n",
        "                              for j in range(4)))"
      ],
      "execution_count": null,
      "outputs": [
        {
          "output_type": "display_data",
          "data": {
            "image/png": "[encoded data removed]",
            "text/plain": [
              "<Figure size 432x288 with 1 Axes>"
            ]
          },
          "metadata": {
            "tags": [],
            "needs_background": "light"
          }
        },
        {
          "output_type": "stream",
          "text": [
            "GroundTruth:      7     2     1     0\n",
            "Predicted:      7     2     1     0\n"
          ],
          "name": "stdout"
        }
      ]
    },
    {
      "cell_type": "markdown",
      "metadata": {
        "id": "UvR8TTs-z8Cc"
      },
      "source": [
        "Pretty good so far. But we also want to be able to test the network on all of our data. Here's a function that can do just that, computing the accuracy on a full set of data:"
      ]
    },
    {
      "cell_type": "code",
      "metadata": {
        "id": "7TNFVUA3mpJr"
      },
      "source": [
        "def accuracy(net, dataloader):\n",
        "  correct = 0\n",
        "  total = 0\n",
        "  with torch.no_grad():\n",
        "      for batch in dataloader:\n",
        "          images, labels = batch[0].to(device), batch[1].to(device)\n",
        "          outputs = net(images)\n",
        "          _, predicted = torch.max(outputs.data, 1)\n",
        "          total += labels.size(0)\n",
        "          correct += (predicted == labels).sum().item()\n",
        "  return correct/total"
      ],
      "execution_count": null,
      "outputs": []
    },
    {
      "cell_type": "markdown",
      "metadata": {
        "id": "_usQ2gGR01j0"
      },
      "source": [
        "Now we can give it a try:"
      ]
    },
    {
      "cell_type": "code",
      "metadata": {
        "id": "MEl-HH83020a",
        "outputId": "af0cd9f9-4727-4422-838d-798b93b4511d",
        "colab": {
          "base_uri": "https://localhost:8080/",
          "height": 35
        }
      },
      "source": [
        "print(\"Current accuracy: %f\" % accuracy(net, data['train']))"
      ],
      "execution_count": null,
      "outputs": [
        {
          "output_type": "stream",
          "text": [
            "Current accuracy: 0.951833\n"
          ],
          "name": "stdout"
        }
      ]
    },
    {
      "cell_type": "markdown",
      "metadata": {
        "id": "3gIXV-es1T7C"
      },
      "source": [
        "##Experiments##\n",
        "\n",
        "Now it's time to poke around a little bit with our models. First I just want this utility function to do window smoothing of data for us. As you may have noticed, we are doing *stochastic* gradient descent, so our losses for each mini-batch can vary quite dramatically. If we smooth them out a little bit they will be easier to look at when we plot them."
      ]
    },
    {
      "cell_type": "code",
      "metadata": {
        "id": "Zq0AprMN30cS"
      },
      "source": [
        "def smooth(x, size):\n",
        "  return np.convolve(x, np.ones(size)/size, mode='same')"
      ],
      "execution_count": null,
      "outputs": []
    },
    {
      "cell_type": "markdown",
      "metadata": {
        "id": "TdHueTHS7ClZ"
      },
      "source": [
        "###Learning Rate###\n",
        "\n",
        "Let's experiment around with the learning rate of our model. Changing the learning rate should affect how fast our model converges and how accurate it is. We can see the effect when we plot out the loss function over time for models with different learning rates:"
      ]
    },
    {
      "cell_type": "code",
      "metadata": {
        "id": "lC3gB5j61j2Z",
        "outputId": "62c5d483-f214-482f-a0ba-13cff7d84331",
        "colab": {
          "base_uri": "https://localhost:8080/",
          "height": 283
        }
      },
      "source": [
        "net_high = SimpleNet()\n",
        "losses_high = train(net_high, data['train'], lr=.1, verbose=0)\n",
        "acc_high = accuracy(net_high, data['test'])\n",
        "plt.plot(smooth(losses_high,20), 'r-')\n",
        "\n",
        "\n",
        "net_mid = SimpleNet()\n",
        "losses_mid = train(net_mid, data['train'], lr=.01, verbose=0)\n",
        "acc_mid = accuracy(net_mid, data['test'])\n",
        "plt.plot(smooth(losses_mid,20), 'b-')\n",
        "\n",
        "\n",
        "net_low = SimpleNet()\n",
        "losses_low = train(net_low, data['train'], lr=.001, verbose=0)\n",
        "acc_low = accuracy(net_low, data['test'])\n",
        "plt.plot(smooth(losses_low,20), 'g-')\n",
        "\n",
        "print(acc_high, acc_mid, acc_low)"
      ],
      "execution_count": null,
      "outputs": [
        {
          "output_type": "stream",
          "text": [
            "0.9517 0.9479 0.8928\n"
          ],
          "name": "stdout"
        },
        {
          "output_type": "display_data",
          "data": {
            "image/png": "[encoded data removed]",
            "text/plain": [
              "<Figure size 432x288 with 1 Axes>"
            ]
          },
          "metadata": {
            "tags": [],
            "needs_background": "light"
          }
        }
      ]
    },
    {
      "cell_type": "markdown",
      "metadata": {
        "id": "-aM_X31X7gxf"
      },
      "source": [
        "###Momentum###\n",
        "\n",
        "We are using the default value for momentum of `0.9`. Fix your value for the learning rate and try varying the values for momentum.\n",
        "\n",
        "####**Question 1: What affect does changing the value for momentum have on your model's convergence and final accuracy?**####\n",
        "\n",
        "Momentum helps in faster convergence and hence higher accuracy. This is observed on increasing momentum from 0.2 to 0.8. However, on furthur increasing momentum to 0.95, it is seen that there are oscillations in the convergence, which means that the convergence rate was too high and hence the optima is missed. Hence a lower accuracy is seen at momentum=0.95."
      ]
    },
    {
      "cell_type": "code",
      "metadata": {
        "id": "X5rsSpoP78KM",
        "outputId": "b5549c92-07fe-4cc9-b466-90dd577bf6d4",
        "colab": {
          "base_uri": "https://localhost:8080/",
          "height": 481
        }
      },
      "source": [
        "#TODO: Write your code here for experimenting with different values of momentum.\n",
        "\n",
        "print(\"Momentum : 0.2\")\n",
        "net_high = SimpleNet()\n",
        "losses_high = train(net_high, data['train'], lr=.1, momentum = 0.2, verbose=0)\n",
        "acc = accuracy(net_high, data['test'])\n",
        "plt.plot(smooth(losses_high,20), 'r-')\n",
        "print(acc)\n",
        "\n",
        "print(\"Momentum : 0.4\")\n",
        "net_high = SimpleNet()\n",
        "losses_high = train(net_high, data['train'], lr=.1, momentum = 0.4, verbose=0)\n",
        "acc = accuracy(net_high, data['test'])\n",
        "plt.plot(smooth(losses_high,20), 'g-')\n",
        "print(acc)\n",
        "\n",
        "print(\"Momentum : 0.6\")\n",
        "net_high = SimpleNet()\n",
        "losses_high = train(net_high, data['train'], lr=.1, momentum = 0.6, verbose=0)\n",
        "acc = accuracy(net_high, data['test'])\n",
        "plt.plot(smooth(losses_high,20), 'b-')\n",
        "print(acc)\n",
        "\n",
        "print(\"Momentum : 0.8\")\n",
        "net_high = SimpleNet()\n",
        "losses_high = train(net_high, data['train'], lr=.1, momentum = 0.8, verbose=0)\n",
        "acc = accuracy(net_high, data['test'])\n",
        "plt.plot(smooth(losses_high,20), 'm-')\n",
        "print(acc)\n",
        "\n",
        "print(\"Momentum : 0.9\")\n",
        "net_high = SimpleNet()\n",
        "losses_high = train(net_high, data['train'], lr=.1, momentum = 0.9, verbose=0)\n",
        "acc = accuracy(net_high, data['test'])\n",
        "plt.plot(smooth(losses_high,20), 'c-')\n",
        "print(acc)\n",
        "\n",
        "print(\"Momentum : 0.95\")\n",
        "net_high = SimpleNet()\n",
        "losses_high = train(net_high, data['train'], lr=.1, momentum = 0.95, verbose=0)\n",
        "acc = accuracy(net_high, data['test'])\n",
        "plt.plot(smooth(losses_high,20), 'k-')\n",
        "print(acc)\n",
        "\n",
        "\n"
      ],
      "execution_count": null,
      "outputs": [
        {
          "output_type": "stream",
          "text": [
            "Momentum : 0.2\n",
            "0.9509\n",
            "Momentum : 0.4\n",
            "0.9612\n",
            "Momentum : 0.6\n",
            "0.9628\n",
            "Momentum : 0.8\n",
            "0.9659\n",
            "Momentum : 0.9\n",
            "0.9554\n",
            "Momentum : 0.95\n",
            "0.8335\n"
          ],
          "name": "stdout"
        },
        {
          "output_type": "display_data",
          "data": {
            "image/png": "[encoded data removed]",
            "text/plain": [
              "<Figure size 432x288 with 1 Axes>"
            ]
          },
          "metadata": {
            "tags": [],
            "needs_background": "light"
          }
        }
      ]
    },
    {
      "cell_type": "markdown",
      "metadata": {
        "id": "weTQgPBE8GC-"
      },
      "source": [
        "###Weight Decay###\n",
        "\n",
        "Right now we aren't using any weight decay with our model. However, it can be useful as a method of regularization if we are worried about overfitting.\n",
        "\n",
        "Take your best performing model parameters from above for learning rate and momentum. Fix these parameters as you answer the following questions:\n",
        "\n",
        "####**Question 2: Is our current model overfit or underfit to our training data? How can you tell?**####\n",
        "Measuring the training and test accuracies, we get:\n",
        "Training accuracy = 96.7%\n",
        "Test accuracy = 96.15%\n",
        "So the model is performing better on the training data. So the model is not underfitting. The difference between the training and test data is only a small value, so it is not overfitting as well.\n",
        "\n",
        "####**Question 3: Try out some different values for weight decay. What effect do they have on model convergence? What about final accuracy? Does this match with what you would have expected? Why or why not?**####\n",
        "\n",
        "Weight decay values of (0.0001,0.001, 0.01, 0.1) were tried.\n",
        "As the weight decay value increases, the convergence slows down as seen in the plot. This is expected because with higher weight decay, the weights are changed by a smaller amount, so the model changes slowly and hence the convergence in slow.\n",
        "\n",
        "Regarding the accuracy, we see that both the training and test accuracy decreases (for a fixed number of training iterations) with increasing weight decay. This is a direct consequence of the slower convergence. However another important observation regaring the accuracy is - with very small value of weight decay, the test accuracy is lower than the training accuracy, which indicates that the model has overfit to the training data. However, on increasing the weight decay, the test accuracy improves over the training accuracy which indicates that the model is no longer overfitting. On increasing  the weight decay even further, the model begins to underfit.\n",
        "\n",
        "The observation matches with what we expected. Because the weight decay parameter ensures that model weights change by a small factor. Hence the model should converge slowly. Also, since the weights are smaller, random noise in the training data will not have much effect on the final model. The model will tend to learn only the more general patterns in the data, which will ensure that model does not overfit. Hence the observation matches with our intuition.\n",
        "\n",
        "\n",
        "Concluding remarks:\n",
        "Weight decay is a parameter used for making the model more generalized. Weight decay is similar or equivalent to regularization and helps in avoiding larger values for weights.\n",
        "Greater the value of this lambda/ weight decay, more desensitized the model is toward the data fluctuations/ noise.\n",
        "If weight decay is too high, no matter how much we train the model will never fit well and may lead to underfitting case (High bias, low variance) whereas if the weight decay is 0, there is a chance that the model will overfit and may not perform well on the unseen data. (Low Bias, High Variance)\n",
        "\n"
      ]
    },
    {
      "cell_type": "code",
      "metadata": {
        "id": "6T9od9S5A-HO",
        "outputId": "281f8354-f05b-4e57-fc6b-58fed8a370db",
        "colab": {
          "base_uri": "https://localhost:8080/",
          "height": 91
        }
      },
      "source": [
        "#Overfit/Underfit\n",
        "print(\"Momentum=0.9\")\n",
        "print(\"Learning Rate=0.1\")\n",
        "net1 = SimpleNet()\n",
        "losses1 = train(net1, data['train'], lr=0.1, momentum=0.9, decay=0.0001, verbose=0)\n",
        "acc_train = accuracy(net1, data['train'])\n",
        "acc_test = accuracy(net1, data['test']) \n",
        "print(\"Training accuracy = \", acc_train)\n",
        "print(\"Test accuracy = \", acc_test)"
      ],
      "execution_count": null,
      "outputs": [
        {
          "output_type": "stream",
          "text": [
            "Momentum=0.9\n",
            "Learning Rate=0.1\n",
            "Training accuracy =  0.9670333333333333\n",
            "Test accuracy =  0.9615\n"
          ],
          "name": "stdout"
        }
      ]
    },
    {
      "cell_type": "code",
      "metadata": {
        "id": "Jywu7uy0aLa8",
        "outputId": "169f75d3-e065-446f-ec1c-46d2fa2deb39",
        "colab": {
          "base_uri": "https://localhost:8080/",
          "height": 487
        }
      },
      "source": [
        "#TODO: Write your code here for experimenting with different weight decay\n",
        "\n",
        "print(\"Weight Decay : 0.0001\")\n",
        "net_high = SimpleNet()\n",
        "losses_high = train(net_high, data['train'], lr=.1, momentum = 0.8, decay = 0.0001, verbose=0)\n",
        "train_acc = accuracy(net_high, data['train'])\n",
        "test_acc = accuracy(net_high, data['test'])\n",
        "plt.plot(smooth(losses_high,20), 'r-')\n",
        "print(\"Training Accuracy = \", train_acc)\n",
        "print(\"Test Accuracy = \", test_acc)\n",
        "\n",
        "\n",
        "print(\"Weight Decay : 0.001\")\n",
        "net_high = SimpleNet()\n",
        "losses_high = train(net_high, data['train'], lr=.1, momentum = 0.8, decay = 0.001, verbose=0)\n",
        "train_acc = accuracy(net_high, data['train'])\n",
        "test_acc = accuracy(net_high, data['test'])\n",
        "plt.plot(smooth(losses_high,20), 'b-')\n",
        "print(\"Training Accuracy = \", train_acc)\n",
        "print(\"Test Accuracy = \", test_acc)\n",
        "\n",
        "print(\"Weight Decay : 0.01\")\n",
        "net_high = SimpleNet()\n",
        "losses_high = train(net_high, data['train'], lr=.1, momentum = 0.8, decay = 0.01, verbose=0)\n",
        "train_acc = accuracy(net_high, data['train'])\n",
        "test_acc = accuracy(net_high, data['test'])\n",
        "plt.plot(smooth(losses_high,20), 'g-')\n",
        "print(\"Training Accuracy = \", train_acc)\n",
        "print(\"Test Accuracy = \", test_acc)\n",
        "\n",
        "print(\"Weight Decay : 0.1\")\n",
        "net_high = SimpleNet()\n",
        "losses_high = train(net_high, data['train'], lr=.1, momentum = 0.8, decay = 0.1, verbose=0)\n",
        "train_acc = accuracy(net_high, data['train'])\n",
        "test_acc = accuracy(net_high, data['test'])\n",
        "plt.plot(smooth(losses_high,20), 'k-')\n",
        "print(\"Training Accuracy = \", train_acc)\n",
        "print(\"Test Accuracy = \", test_acc)\n",
        "\n",
        "\n"
      ],
      "execution_count": null,
      "outputs": [
        {
          "output_type": "stream",
          "text": [
            "Weight Decay : 0.0001\n",
            "Training Accuracy =  0.9699666666666666\n",
            "Test Accuracy =  0.9656\n",
            "Weight Decay : 0.001\n",
            "Training Accuracy =  0.963\n",
            "Test Accuracy =  0.9594\n",
            "Weight Decay : 0.01\n",
            "Training Accuracy =  0.91215\n",
            "Test Accuracy =  0.9168\n",
            "Weight Decay : 0.1\n",
            "Training Accuracy =  0.7538\n",
            "Test Accuracy =  0.7607\n"
          ],
          "name": "stdout"
        },
        {
          "output_type": "display_data",
          "data": {
            "image/png": "[encoded data removed]",
            "text/plain": [
              "<Figure size 432x288 with 1 Axes>"
            ]
          },
          "metadata": {
            "tags": [],
            "needs_background": "light"
          }
        }
      ]
    },
    {
      "cell_type": "code",
      "metadata": {
        "id": "PDWZrBf_A4kZ"
      },
      "source": [
        ""
      ],
      "execution_count": null,
      "outputs": []
    },
    {
      "cell_type": "markdown",
      "metadata": {
        "id": "mKmBp4tMaYro"
      },
      "source": [
        "###A Bigger Model###\n",
        "\n",
        "Before we used a very simple model but now it's time to try adding some complexity. Create a network that takes as input the 28x28 image, 10 outputs, and any number of layers as long as it has fewer than 2,000,000 connections. Our simple network before had 784\\*512 + 512\\*10 = 406,528 connections.\n",
        "\n",
        "Use only fully connected (`nn.Linear`) layers (we'll get to other layer types soon). However, play around with different [activation functions](https://pytorch.org/docs/stable/nn.functional.html#non-linear-activation-functions), [losses](https://pytorch.org/docs/stable/nn.html#loss-functions), and hyperparameter settings. You can also try different training regimes. For example, you could try lowering the learning rate during training by calling our training method twice like this:\n",
        "\n",
        "    train(net, data['train'], epochs=5, lr=.1)\n",
        "    train(net, data['train'], epochs=3, lr=.01)\n",
        "    train(net, data['train'], epochs=2, lr=.001)\n",
        "\n",
        "Maybe it works better? Why did I choose those particular numbers? Who knows! It's deep learning, no one really knows what will work you have to just try things and see.\n",
        "\n",
        "Experiment with different network architectures and settings to get the most accurate model.\n",
        "\n",
        "####**Question 4: Describe your final model architecture. How did you come up with the number of layers and number of neurons at each layer?**####\n",
        "\n",
        "The final model architecture is follows:\n",
        "  - 4 layers including the output layer\n",
        "  - Linear(28\\*28, 512) (28\\*28\\*512 = 401408 neurons)\n",
        "  - Linear(512, 256) (512\\*256 = 131072 neurons)\n",
        "  - Linear(256, 128) (256\\*128 = 32768 neurons)\n",
        "  - Linear(128, 10) (128\\*10 = 1280 neurons)\n",
        "  -  Total 406528 connections\n",
        "  - The test accuracy with this model and  (lr=.01, momentum = 0.0001, decay = 0.001, epoch=1) was 0.965\n",
        "\n",
        "The given SimpleNet architecture had two layers. As the first step in experimentation we increased the number of layers, as we expected this to increase the levels of abstration captured by the model. For example in image recognition models, the first layers capture features like edges and higher layers capture more complex patterns. \n",
        "\n",
        "So we tried a model that is 3 layer deep. \n",
        "  - With this model, the accuracy was slightly lesser 0.956. Hence we went with the 4 layer architecture.\n",
        "  - Then we tried the 4 layer architecture described above. \n",
        "  - We also tried a five layer architecture with first layer having 1024 o/p connections. With this the accuracy was 0.94. The larger model was taking longer to converge so the accuracy was lower. So increase in number of layers is at the cost of increased training time.\n",
        "\n",
        "Hence we concluded on the 4 layer architecture.\n",
        "\n",
        "Regarding the number of neurons per layer, we went with powers of 2. This is because some of the references suggested that choosing powers of 2 helps in better performance (like faster matrix multiplication) as the hardware functions like memory access and SIMD operations work in powers of 2.\n",
        "\n",
        "\n",
        "####**Question 5: What hyperparameters did you experiment with? What values were good for them? Do you think your model was over or under fitting the data?**####\n",
        "\n",
        "Below is a summary of the experiments we did:\n",
        "1. Experiment changing learning rate:\n",
        "    - Values tried (0.001, 0.01, 0.1, 0.2, 0.25, 0.3)\n",
        "    - The best test accuracy of 0.9641 was obtained with lr=0.3\n",
        "\n",
        "2. Experiment changing decay:\n",
        "    - Values tried (0.0001, 0.001, 0.01)\n",
        "    - The highest value of test accuracy (0.9659) was obtained with decay =0.0001.\n",
        "    - However we noticed that this was actually overfitting the model, so we went with higer value of decay in the final experiment.\n",
        "\n",
        "3. Experiment with changing momentum:\n",
        "   - Values tried (0.0001,0.001,0.01)\n",
        "   - The best test accuracy (0.9613) was obtained with momentum=0.01\n",
        "\n",
        "4. Experiment with learning rate scheduling\n",
        "   - We ran 7 epochs without lr scheduling\n",
        "      test_accuracy = 0.97\n",
        "      train_accuracy = 0.99\n",
        "      Clearly there is overfitting on training data\n",
        "\n",
        "    - Then we ran 7 epochs with lr scheduling \n",
        "      test_accuracy = 0.985\n",
        "      train_accuracy = 0.99\n",
        "      Here the test accuracy improved as compared to the case with no lr scheduling, also note that the overfitting has reduced.\n",
        "\n",
        "5. Experiment with activation function\n",
        "   - sigmoid activation was tried in all the layers.\n",
        "   - A lower accuracy of 0.947 was obtained. Also, as seen from the plot of loss, the convergence is much slower with sigmoid.\n",
        "   - We also tried lrelu activation in all the layers. But the RELU activation gave the better performance.\n",
        "\n",
        "\n",
        "Our best model and hyperparameters (the one that gave the highest test accuracy of 0.985) was:\n",
        "Model - 4 layers with RELU activaion\n",
        "Hyperparameters:\n",
        "  - momentum = 0.001\n",
        "  - decay = 0.01\n",
        "  - lr (lr scheduling: 0.3, 0.03, 0.003)\n",
        "with this setting, the model was lsightly overfitting (training accuracy = 0.99, test_accuracy = 0.985)\n"
      ]
    },
    {
      "cell_type": "code",
      "metadata": {
        "id": "J0yynxFmd0ss",
        "outputId": "961d53b5-9c8e-45c7-c052-c2cc88b7f977",
        "colab": {
          "base_uri": "https://localhost:8080/",
          "height": 320
        }
      },
      "source": [
        "#TODO: Write your new model and experiments here\n",
        "\n",
        "class ExperiNet(nn.Module):\n",
        "    #TODO: Change all this\n",
        "    def __init__(self):\n",
        "        super(ExperiNet, self).__init__()\n",
        "        self.fc1 = nn.Linear(28*28, 512)\n",
        "        self.fc2 = nn.Linear(512, 256)\n",
        "        self.fc3 = nn.Linear(256, 128)\n",
        "        self.fc4 = nn.Linear(128, 10)\n",
        "   \n",
        "        #self.lrelu = nn.LeakyReLU(0.01)\n",
        "\n",
        "    def forward(self, x):\n",
        "        x = torch.flatten(x, 1)\n",
        "        \n",
        "        x = self.fc1(x)\n",
        "        x = F.relu (x)\n",
        "        \n",
        "        x = self.fc2(x)\n",
        "        x = F.relu (x)\n",
        "\n",
        "        x = self.fc3(x)\n",
        "        x = F.relu (x)\n",
        "\n",
        "        x = self.fc4(x)\n",
        "        return x\n",
        "\n",
        "#Experiment with learning rate\n",
        "net_high = ExperiNet()\n",
        "losses_high = train(net_high, data['train'], lr=.001, momentum = 0.0001, decay = 0.001, verbose=0)\n",
        "acc = accuracy(net_high, data['test'])\n",
        "plt.plot(smooth(losses_high,20), 'r-')\n",
        "print(acc)\n",
        "\n",
        "\n",
        "net_high = ExperiNet()\n",
        "losses_high = train(net_high, data['train'], lr=.01, momentum = 0.0001, decay = 0.001, verbose=0)\n",
        "acc = accuracy(net_high, data['test'])\n",
        "plt.plot(smooth(losses_high,20), 'g-')\n",
        "print(acc)\n",
        "\n",
        "\n",
        "net_high = ExperiNet()\n",
        "losses_high = train(net_high, data['train'], lr=.1, momentum = 0.0001, decay = 0.001, verbose=0)\n",
        "acc = accuracy(net_high, data['test'])\n",
        "plt.plot(smooth(losses_high,20), 'b-')\n",
        "print(acc)\n",
        "\n",
        "\n",
        "\n",
        "  "
      ],
      "execution_count": null,
      "outputs": [
        {
          "output_type": "stream",
          "text": [
            "0.251\n",
            "0.8414\n",
            "0.9609\n"
          ],
          "name": "stdout"
        },
        {
          "output_type": "display_data",
          "data": {
            "image/png": "[encoded data removed]",
            "text/plain": [
              "<Figure size 432x288 with 1 Axes>"
            ]
          },
          "metadata": {
            "tags": [],
            "needs_background": "light"
          }
        }
      ]
    },
    {
      "cell_type": "code",
      "metadata": {
        "id": "RE7ebqM9KGqN",
        "outputId": "2e9b6b9a-63b9-4e69-80ac-9399ab9ccd12",
        "colab": {
          "base_uri": "https://localhost:8080/",
          "height": 283
        }
      },
      "source": [
        "class ExperiNet_three(nn.Module):\n",
        "    #TODO: Change all this\n",
        "    def __init__(self):\n",
        "        super(ExperiNet_three, self).__init__()\n",
        "        self.fc1 = nn.Linear(28*28, 512)\n",
        "        self.fc2 = nn.Linear(512, 128)\n",
        "        self.fc3 = nn.Linear(128, 10)\n",
        "   \n",
        "        #self.lrelu = nn.LeakyReLU(0.01)\n",
        "\n",
        "    def forward(self, x):\n",
        "        x = torch.flatten(x, 1)\n",
        "        \n",
        "        x = self.fc1(x)\n",
        "        x = F.relu (x)\n",
        "        \n",
        "        x = self.fc2(x)\n",
        "        x = F.relu (x)\n",
        "\n",
        "        x = self.fc3(x)\n",
        "        return x\n",
        "\n",
        "net_high = ExperiNet_three()\n",
        "losses_high = train(net_high, data['train'], lr=.1, momentum = 0.0001, decay = 0.001, verbose=0)\n",
        "acc = accuracy(net_high, data['test'])\n",
        "plt.plot(smooth(losses_high,20), 'b-')\n",
        "print(acc)"
      ],
      "execution_count": null,
      "outputs": [
        {
          "output_type": "stream",
          "text": [
            "0.956\n"
          ],
          "name": "stdout"
        },
        {
          "output_type": "display_data",
          "data": {
            "image/png": "[encoded data removed]",
            "text/plain": [
              "<Figure size 432x288 with 1 Axes>"
            ]
          },
          "metadata": {
            "tags": [],
            "needs_background": "light"
          }
        }
      ]
    },
    {
      "cell_type": "code",
      "metadata": {
        "id": "rb3BKfXpO9Rj",
        "outputId": "efe32c78-2b9d-495d-af81-f752d6f1331b",
        "colab": {
          "base_uri": "https://localhost:8080/",
          "height": 283
        }
      },
      "source": [
        "class ExperiNet_five(nn.Module):\n",
        "    #TODO: Change all this\n",
        "    def __init__(self):\n",
        "        super(ExperiNet_five, self).__init__()\n",
        "        self.fc1 = nn.Linear(28*28, 1024)\n",
        "        self.fc2 = nn.Linear(1024,512)\n",
        "        self.fc3 = nn.Linear(512, 256)\n",
        "        self.fc4 = nn.Linear(256, 128)\n",
        "        self.fc5 = nn.Linear(128, 10)\n",
        "   \n",
        "        #self.lrelu = nn.LeakyReLU(0.01)\n",
        "\n",
        "    def forward(self, x):\n",
        "        x = torch.flatten(x, 1)\n",
        "        \n",
        "        x = self.fc1(x)\n",
        "        x = F.relu (x)\n",
        "        \n",
        "        x = self.fc2(x)\n",
        "        x = F.relu (x)\n",
        "\n",
        "        x = self.fc3(x)\n",
        "        x = F.relu (x)\n",
        "\n",
        "        x = self.fc4(x)\n",
        "        x = F.relu(x)\n",
        "\n",
        "        x = self.fc5(x)\n",
        "        return x\n",
        "\n",
        "\n",
        "net_high = ExperiNet_five()\n",
        "losses_high = train(net_high, data['train'], lr=.1, momentum = 0.0001, decay = 0.001, verbose=0)\n",
        "acc = accuracy(net_high, data['test'])\n",
        "plt.plot(smooth(losses_high,20), 'b-')\n",
        "print(acc)"
      ],
      "execution_count": null,
      "outputs": [
        {
          "output_type": "stream",
          "text": [
            "0.9486\n"
          ],
          "name": "stdout"
        },
        {
          "output_type": "display_data",
          "data": {
            "image/png": "[encoded data removed]",
            "text/plain": [
              "<Figure size 432x288 with 1 Axes>"
            ]
          },
          "metadata": {
            "tags": [],
            "needs_background": "light"
          }
        }
      ]
    },
    {
      "cell_type": "code",
      "metadata": {
        "id": "nOqHWvDHiy0a",
        "outputId": "c96e9de1-58e9-4235-9ab0-e3f8ac3af445",
        "colab": {
          "base_uri": "https://localhost:8080/",
          "height": 320
        }
      },
      "source": [
        "#Experiment with learning rate \n",
        "net_high = ExperiNet()\n",
        "losses_high = train(net_high, data['train'], lr=.2, momentum = 0.0001, decay = 0.001, verbose=0)\n",
        "acc = accuracy(net_high, data['test'])\n",
        "plt.plot(smooth(losses_high,20), 'r-')\n",
        "print(acc)\n",
        "\n",
        "net_high = ExperiNet()\n",
        "losses_high = train(net_high, data['train'], lr=.25, momentum = 0.0001, decay = 0.001, verbose=0)\n",
        "acc = accuracy(net_high, data['test'])\n",
        "plt.plot(smooth(losses_high,20), 'g-')\n",
        "print(acc)\n",
        "\n",
        "\n",
        "net_high = ExperiNet()\n",
        "losses_high = train(net_high, data['train'], lr=.3, momentum = 0.0001, decay = 0.001, verbose=0)\n",
        "acc = accuracy(net_high, data['test'])\n",
        "plt.plot(smooth(losses_high,20), 'b-')\n",
        "print(acc)"
      ],
      "execution_count": null,
      "outputs": [
        {
          "output_type": "stream",
          "text": [
            "0.9609\n",
            "0.9564\n",
            "0.9641\n"
          ],
          "name": "stdout"
        },
        {
          "output_type": "display_data",
          "data": {
            "image/png": "[encoded data removed]",
            "text/plain": [
              "<Figure size 432x288 with 1 Axes>"
            ]
          },
          "metadata": {
            "tags": [],
            "needs_background": "light"
          }
        }
      ]
    },
    {
      "cell_type": "code",
      "metadata": {
        "id": "HyCAkHYkjLyH",
        "outputId": "f9094efd-e95e-4a4f-8441-8537e3371772",
        "colab": {
          "base_uri": "https://localhost:8080/",
          "height": 320
        }
      },
      "source": [
        "#Experiment with momentum\n",
        "net_high = ExperiNet()\n",
        "losses_high = train(net_high, data['train'], lr=.3, momentum = 0.0001, decay = 0.001, verbose=0)\n",
        "acc = accuracy(net_high, data['test'])\n",
        "plt.plot(smooth(losses_high,20), 'r-')\n",
        "print(acc)\n",
        "\n",
        "\n",
        "\n",
        "net_high = ExperiNet()\n",
        "losses_high = train(net_high, data['train'], lr=.3, momentum = 0.001, decay = 0.001, verbose=0)\n",
        "acc = accuracy(net_high, data['test'])\n",
        "plt.plot(smooth(losses_high,20), 'g-')\n",
        "print(acc)\n",
        "\n",
        "\n",
        "\n",
        "net_high = ExperiNet()\n",
        "losses_high = train(net_high, data['train'], lr=.3, momentum = 0.01, decay = 0.001, verbose=0)\n",
        "acc = accuracy(net_high, data['test'])\n",
        "plt.plot(smooth(losses_high,20), 'b-')\n",
        "print(acc)"
      ],
      "execution_count": null,
      "outputs": [
        {
          "output_type": "stream",
          "text": [
            "0.9537\n",
            "0.9569\n",
            "0.9613\n"
          ],
          "name": "stdout"
        },
        {
          "output_type": "display_data",
          "data": {
            "image/png": "[encoded data removed]",
            "text/plain": [
              "<Figure size 432x288 with 1 Axes>"
            ]
          },
          "metadata": {
            "tags": [],
            "needs_background": "light"
          }
        }
      ]
    },
    {
      "cell_type": "code",
      "metadata": {
        "id": "-XHBXVgdjfUd",
        "outputId": "fb751e0e-47aa-44d9-8508-c2f3239b80b0",
        "colab": {
          "base_uri": "https://localhost:8080/",
          "height": 320
        }
      },
      "source": [
        "\n",
        "#Experiment with decay\n",
        "net_high = ExperiNet()\n",
        "losses_high = train(net_high, data['train'], lr=.3, momentum = 0.001, decay = 0.0001, verbose=0)\n",
        "acc = accuracy(net_high, data['test'])\n",
        "plt.plot(smooth(losses_high,20), 'r-')\n",
        "print(acc)\n",
        "\n",
        "\n",
        "net_high = ExperiNet()\n",
        "losses_high = train(net_high, data['train'], lr=.3, momentum = 0.001, decay = 0.001, verbose=0)\n",
        "acc = accuracy(net_high, data['test'])\n",
        "plt.plot(smooth(losses_high,20), 'g-')\n",
        "print(acc)\n",
        "\n",
        "\n",
        "\n",
        "net_high = ExperiNet()\n",
        "losses_high = train(net_high, data['train'], lr=.3, momentum = 0.001, decay = 0.01, verbose=0)\n",
        "acc = accuracy(net_high, data['test'])\n",
        "plt.plot(smooth(losses_high,20), 'b-')\n",
        "print(acc)\n"
      ],
      "execution_count": null,
      "outputs": [
        {
          "output_type": "stream",
          "text": [
            "0.9659\n",
            "0.9621\n",
            "0.9064\n"
          ],
          "name": "stdout"
        },
        {
          "output_type": "display_data",
          "data": {
            "image/png": "[encoded data removed]",
            "text/plain": [
              "<Figure size 432x288 with 1 Axes>"
            ]
          },
          "metadata": {
            "tags": [],
            "needs_background": "light"
          }
        }
      ]
    },
    {
      "cell_type": "code",
      "metadata": {
        "id": "3gcRAo5So6EG",
        "outputId": "f8dd3bab-a297-485d-cc3c-b9c5086f60cc",
        "colab": {
          "base_uri": "https://localhost:8080/",
          "height": 302
        }
      },
      "source": [
        "#Experimenting with lr scheduling - No scheduling\n",
        "net_high = ExperiNet()\n",
        "losses_high = train(net_high, data['train'], lr=.3, momentum = 0.001, decay = 0.0001, verbose=0, epochs=7)\n",
        "test_acc = accuracy(net_high, data['test'])\n",
        "train_acc = accuracy(net_high, data['train'])\n",
        "plt.plot(smooth(losses_high,20), 'r-')\n",
        "print(\"Test accuracy = \", test_acc)\n",
        "print(\"Train accuracy = \", train_acc)"
      ],
      "execution_count": null,
      "outputs": [
        {
          "output_type": "stream",
          "text": [
            "Test accuracy =  0.9768\n",
            "Train accuracy =  0.9910833333333333\n"
          ],
          "name": "stdout"
        },
        {
          "output_type": "display_data",
          "data": {
            "image/png": "[encoded data removed]",
            "text/plain": [
              "<Figure size 432x288 with 1 Axes>"
            ]
          },
          "metadata": {
            "tags": [],
            "needs_background": "light"
          }
        }
      ]
    },
    {
      "cell_type": "code",
      "metadata": {
        "id": "sdqgEghcl_Ff",
        "outputId": "1f5f6360-53cf-470b-9465-d6f2426866ac",
        "colab": {
          "base_uri": "https://localhost:8080/",
          "height": 54
        }
      },
      "source": [
        "#Experimenting with lr scheduling\n",
        "net_high = ExperiNet()\n",
        "losses_high1 = train(net_high, data['train'], lr=.3, momentum = 0.001, decay = 0.001, verbose=0, epochs=4)\n",
        "losses_high2 = train(net_high, data['train'], lr=.03, momentum = 0.001, decay = 0.001, verbose=0, epochs=2)\n",
        "losses_high3 = train(net_high, data['train'], lr=.003, momentum = 0.001, decay = 0.001, verbose=0, epochs=1)\n",
        "test_acc = accuracy(net_high, data['test'])\n",
        "print(\"Test accuracy=\",test_acc)\n",
        "train_acc = accuracy(net_high, data['train'])\n",
        "print(\"Train accuracy\", train_acc)\n"
      ],
      "execution_count": null,
      "outputs": [
        {
          "output_type": "stream",
          "text": [
            "Test accuracy= 0.9848\n",
            "Train accuracy 0.9927333333333334\n"
          ],
          "name": "stdout"
        }
      ]
    },
    {
      "cell_type": "code",
      "metadata": {
        "id": "ZPDr2raHsv5k",
        "outputId": "34ebe7e0-259f-48b2-d8b4-dfde3f427fed",
        "colab": {
          "base_uri": "https://localhost:8080/",
          "height": 54
        }
      },
      "source": [
        "#Experimenting with lr scheduling\n",
        "net_high = ExperiNet()\n",
        "losses_high1 = train(net_high, data['train'], lr=.1, momentum = 0.001, decay = 0.01, verbose=0, epochs=3)\n",
        "losses_high2 = train(net_high, data['train'], lr=.01, momentum = 0.001, decay = 0.01, verbose=0, epochs=2)\n",
        "losses_high3 = train(net_high, data['train'], lr=.001, momentum = 0.001, decay = 0.01, verbose=0, epochs=1)\n",
        "test_acc = accuracy(net_high, data['test'])\n",
        "print(\"Test accuracy=\",test_acc)\n",
        "train_acc = accuracy(net_high, data['train'])\n",
        "print(\"Train accuracy\", train_acc)"
      ],
      "execution_count": null,
      "outputs": [
        {
          "output_type": "stream",
          "text": [
            "Test accuracy= 0.9595\n",
            "Train accuracy 0.9602666666666667\n"
          ],
          "name": "stdout"
        }
      ]
    },
    {
      "cell_type": "code",
      "metadata": {
        "id": "aiyl9zEYoFtH",
        "outputId": "5627ef57-544e-4404-a589-2cc1bbb58253",
        "colab": {
          "base_uri": "https://localhost:8080/",
          "height": 283
        }
      },
      "source": [
        "losses=losses_high1 + losses_high2 + losses_high3\n",
        "plt.plot(smooth(losses,20), 'g-')"
      ],
      "execution_count": null,
      "outputs": [
        {
          "output_type": "execute_result",
          "data": {
            "text/plain": [
              "[<matplotlib.lines.Line2D at 0x7ff4d0624fd0>]"
            ]
          },
          "metadata": {
            "tags": []
          },
          "execution_count": 36
        },
        {
          "output_type": "display_data",
          "data": {
            "image/png": "[encoded data removed]",
            "text/plain": [
              "<Figure size 432x288 with 1 Axes>"
            ]
          },
          "metadata": {
            "tags": [],
            "needs_background": "light"
          }
        }
      ]
    },
    {
      "cell_type": "code",
      "metadata": {
        "id": "oMak4QtkptHZ",
        "outputId": "383947a3-e6f3-4119-f29a-48302a637a11",
        "colab": {
          "base_uri": "https://localhost:8080/",
          "height": 320
        }
      },
      "source": [
        "#Experimenting with activation function used in the model (using sigmoid)\n",
        "class ExperiNet2(nn.Module):\n",
        "    #TODO: Change all this\n",
        "    def __init__(self):\n",
        "        super(ExperiNet2, self).__init__()\n",
        "        self.fc1 = nn.Linear(28*28, 512)\n",
        "        self.fc2 = nn.Linear(512, 256)\n",
        "        self.fc3 = nn.Linear(256, 128)\n",
        "        self.fc4 = nn.Linear(128, 10)\n",
        "   \n",
        "        #self.lrelu = nn.LeakyReLU(0.01)\n",
        "\n",
        "    def forward(self, x):\n",
        "        x = torch.flatten(x, 1)\n",
        "        \n",
        "        x = self.fc1(x)\n",
        "        x = F.sigmoid (x)\n",
        "        \n",
        "        x = self.fc2(x)\n",
        "        x = F.sigmoid (x)\n",
        "\n",
        "        x = self.fc3(x)\n",
        "        x = F.sigmoid (x)\n",
        "\n",
        "        x = self.fc4(x)\n",
        "        return x\n",
        "\n",
        "#Experiment with learning rate\n",
        "net_high = ExperiNet2()\n",
        "losses_high = train(net_high, data['train'], lr=.3, momentum = 0.001, decay = 0.0001, verbose=0, epochs=7)\n",
        "acc = accuracy(net_high, data['test'])\n",
        "plt.plot(smooth(losses_high,20), 'r-')\n",
        "print(acc)\n",
        "\n"
      ],
      "execution_count": null,
      "outputs": [
        {
          "output_type": "stream",
          "text": [
            "/usr/local/lib/python3.6/dist-packages/torch/nn/functional.py:1625: UserWarning: nn.functional.sigmoid is deprecated. Use torch.sigmoid instead.\n",
            "  warnings.warn(\"nn.functional.sigmoid is deprecated. Use torch.sigmoid instead.\")\n"
          ],
          "name": "stderr"
        },
        {
          "output_type": "stream",
          "text": [
            "0.9472\n"
          ],
          "name": "stdout"
        },
        {
          "output_type": "display_data",
          "data": {
            "image/png": "[encoded data removed]",
            "text/plain": [
              "<Figure size 432x288 with 1 Axes>"
            ]
          },
          "metadata": {
            "tags": [],
            "needs_background": "light"
          }
        }
      ]
    },
    {
      "cell_type": "code",
      "metadata": {
        "id": "PrR7R998eLn1"
      },
      "source": [
        "#Experimenting with activation function used in the model (using sigmoid)\n",
        "class ExperiNet2(nn.Module):\n",
        "    #TODO: Change all this\n",
        "    def __init__(self):\n",
        "        super(ExperiNet2, self).__init__()\n",
        "        self.fc1 = nn.Linear(28*28, 512)\n",
        "        self.fc2 = nn.Linear(512, 256)\n",
        "        self.fc3 = nn.Linear(256, 128)\n",
        "        self.fc4 = nn.Linear(128, 10)\n",
        "   \n",
        "        #self.lrelu = nn.LeakyReLU(0.01)\n",
        "\n",
        "    def forward(self, x):\n",
        "        x = torch.flatten(x, 1)\n",
        "        \n",
        "        x = self.fc1(x)\n",
        "        x = F.sigmoid (x)\n",
        "        \n",
        "        x = self.fc2(x)\n",
        "        x = F.sigmoid (x)\n",
        "\n",
        "        x = self.fc3(x)\n",
        "        x = F.sigmoid (x)\n",
        "\n",
        "        x = self.fc4(x)\n",
        "        return x\n",
        "\n",
        "net_high = ExperiNet2()\n",
        "losses_high = train(net_high, data['train'], lr=.3, momentum = 0.001, decay = 0.0001, verbose=0, epochs=7)\n",
        "acc = accuracy(net_high, data['test'])\n",
        "plt.plot(smooth(losses_high,20), 'r-')\n",
        "print(acc)\n",
        "\n"
      ],
      "execution_count": null,
      "outputs": []
    },
    {
      "cell_type": "code",
      "metadata": {
        "id": "1rdrSq6aL4t4"
      },
      "source": [
        ""
      ],
      "execution_count": null,
      "outputs": []
    },
    {
      "cell_type": "code",
      "metadata": {
        "id": "Aue6ow9HL8EO",
        "outputId": "c65fd25b-b94c-4899-f51b-dfb63a59e48e",
        "colab": {
          "base_uri": "https://localhost:8080/",
          "height": 283
        }
      },
      "source": [
        "#Experimenting with activation function used in the model (using LRELU)\n",
        "class ExperiNet3(nn.Module):\n",
        "    #TODO: Change all this\n",
        "    def __init__(self):\n",
        "        super(ExperiNet3, self).__init__()\n",
        "        self.fc1 = nn.Linear(28*28, 512)\n",
        "        self.fc2 = nn.Linear(512, 256)\n",
        "        self.fc3 = nn.Linear(256, 128)\n",
        "        self.fc4 = nn.Linear(128, 10)\n",
        "   \n",
        "        self.lrelu = nn.LeakyReLU(0.01)\n",
        "\n",
        "    def forward(self, x):\n",
        "        x = torch.flatten(x, 1)\n",
        "        \n",
        "        x = self.fc1(x)\n",
        "        x = self.lrelu(x)\n",
        "        \n",
        "        x = self.fc2(x)\n",
        "        x = self.lrelu (x)\n",
        "\n",
        "        x = self.fc3(x)\n",
        "        x = self.lrelu (x)\n",
        "\n",
        "        x = self.fc4(x)\n",
        "        return x\n",
        "\n",
        "net_high = ExperiNet3()\n",
        "losses_high = train(net_high, data['train'], lr=.3, momentum = 0.001, decay = 0.0001, verbose=0, epochs=7)\n",
        "acc = accuracy(net_high, data['test'])\n",
        "plt.plot(smooth(losses_high,20), 'r-')\n",
        "print(\"Test Accuracy=\", acc)\n",
        "\n"
      ],
      "execution_count": null,
      "outputs": [
        {
          "output_type": "stream",
          "text": [
            "Test Accuracy= 0.9816\n"
          ],
          "name": "stdout"
        },
        {
          "output_type": "display_data",
          "data": {
            "image/png": "[encoded data removed]",
            "text/plain": [
              "<Figure size 432x288 with 1 Axes>"
            ]
          },
          "metadata": {
            "tags": [],
            "needs_background": "light"
          }
        }
      ]
    },
    {
      "cell_type": "code",
      "metadata": {
        "id": "kbKbaXEIOji4"
      },
      "source": [
        "#Experiment - Using LRELU with lr scheduling\n"
      ],
      "execution_count": null,
      "outputs": []
    },
    {
      "cell_type": "code",
      "metadata": {
        "id": "4nDnXsOkOrLm",
        "outputId": "a2685e8b-531a-463f-d7f8-383f26013baf",
        "colab": {
          "base_uri": "https://localhost:8080/",
          "height": 54
        }
      },
      "source": [
        "#Experimenting with activation function used in the model (using LRELU)\n",
        "class ExperiNet4(nn.Module):\n",
        "    #TODO: Change all this\n",
        "    def __init__(self):\n",
        "        super(ExperiNet4, self).__init__()\n",
        "        self.fc1 = nn.Linear(28*28, 512)\n",
        "        self.fc2 = nn.Linear(512, 256)\n",
        "        self.fc3 = nn.Linear(256, 128)\n",
        "        self.fc4 = nn.Linear(128, 10)\n",
        "   \n",
        "        self.lrelu = nn.LeakyReLU(0.01)\n",
        "\n",
        "    def forward(self, x):\n",
        "        x = torch.flatten(x, 1)\n",
        "        \n",
        "        x = self.fc1(x)\n",
        "        x = self.lrelu(x)\n",
        "        \n",
        "        x = self.fc2(x)\n",
        "        x = self.lrelu (x)\n",
        "\n",
        "        x = self.fc3(x)\n",
        "        x = self.lrelu (x)\n",
        "\n",
        "        x = self.fc4(x)\n",
        "        return x\n",
        "\n",
        "net_high = ExperiNet4()\n",
        "losses1 = train(net_high, data['train'], lr=.3, momentum = 0.001, decay = 0.0001, verbose=0, epochs=4)\n",
        "losses2 = train(net_high, data['train'], lr=.03, momentum = 0.001, decay = 0.0001, verbose=0, epochs=2)\n",
        "losses3 = train(net_high, data['train'], lr=.003, momentum = 0.001, decay = 0.0001, verbose=0, epochs=1)\n",
        "test_acc = accuracy(net_high, data['test'])\n",
        "train_acc = accuracy(net_high, data['train'])\n",
        "print(\"Test Accuracy=\", test_acc)\n",
        "print(\"Train Accuracy=\", train_acc)\n"
      ],
      "execution_count": null,
      "outputs": [
        {
          "output_type": "stream",
          "text": [
            "Test Accuracy= 0.9828\n",
            "Train Accuracy= 0.99735\n"
          ],
          "name": "stdout"
        }
      ]
    },
    {
      "cell_type": "markdown",
      "metadata": {
        "id": "ba1kcHtIf-Gg"
      },
      "source": [
        "##Download and submit!##\n",
        "\n",
        "Download your iPythorn notebook from Colab to your `hw0` directory. Then follow the instructions to collate and submit your homework."
      ]
    }
  ]
}